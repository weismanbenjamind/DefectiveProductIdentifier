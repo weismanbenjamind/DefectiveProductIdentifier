{
 "cells": [
  {
   "cell_type": "markdown",
   "metadata": {},
   "source": [
    "# Notebook to clean and organize data for input into Neural Net\n",
    "The goal of this notebook is to get data organized to feed into neural network. The following need to be done:\n",
    "- Remove videos from dataset\n",
    "- Create subsets of data for each different insulation products, if the image is rotated, and if the image has a defect or not\n",
    "\n",
    "## Imports and initializations"
   ]
  },
  {
   "cell_type": "code",
   "execution_count": 1,
   "metadata": {},
   "outputs": [],
   "source": [
    "#Imports\n",
    "import os\n",
    "\n",
    "#Initializations\n",
    "base = \"Data\"\n",
    "all_data_base = \"Data\\\\AllImages\""
   ]
  },
  {
   "cell_type": "markdown",
   "metadata": {},
   "source": [
    "## Explore raw data "
   ]
  },
  {
   "cell_type": "code",
   "execution_count": 2,
   "metadata": {},
   "outputs": [
    {
     "data": {
      "text/plain": [
       "436"
      ]
     },
     "execution_count": 2,
     "metadata": {},
     "output_type": "execute_result"
    }
   ],
   "source": [
    "#Read in directory of images\n",
    "all_images = os.listdir(all_data_base)\n",
    "\n",
    "#Check how many total image (movies and videos) we have\n",
    "len(all_images)"
   ]
  },
  {
   "cell_type": "markdown",
   "metadata": {},
   "source": [
    "__We have 668 images and videos (reads 436 now the code was rerun after removing movies)__\n",
    "\n",
    "__How many images are present?__"
   ]
  },
  {
   "cell_type": "code",
   "execution_count": 3,
   "metadata": {},
   "outputs": [
    {
     "data": {
      "text/plain": [
       "436"
      ]
     },
     "execution_count": 3,
     "metadata": {},
     "output_type": "execute_result"
    }
   ],
   "source": [
    "#Look at number of images only\n",
    "images = [file for file in all_images if file.split(\".\")[-1] == \"JPG\"]\n",
    "len(images)"
   ]
  },
  {
   "cell_type": "markdown",
   "metadata": {},
   "source": [
    "__We 436 images__\n",
    "\n",
    "__Remove the movies from the directory__"
   ]
  },
  {
   "cell_type": "code",
   "execution_count": 4,
   "metadata": {},
   "outputs": [],
   "source": [
    "#Get paths\n",
    "paths = [os.path.join(all_data_base, file) for file in all_images]\n",
    "\n",
    "#Grab only images \n",
    "for path in paths:\n",
    "    if path.split(\".\")[-1] == \"MOV\":\n",
    "        os.remove(path)"
   ]
  },
  {
   "cell_type": "code",
   "execution_count": 5,
   "metadata": {},
   "outputs": [
    {
     "data": {
      "text/plain": [
       "436"
      ]
     },
     "execution_count": 5,
     "metadata": {},
     "output_type": "execute_result"
    }
   ],
   "source": [
    "len(os.listdir(all_data_base))"
   ]
  },
  {
   "cell_type": "markdown",
   "metadata": {},
   "source": [
    "__Now the AllImages directory contains only images of insulation__\n",
    "## Some of the images got rotated during photographing. Rotate images such that all images are in the proper orientation."
   ]
  },
  {
   "cell_type": "code",
   "execution_count": 9,
   "metadata": {},
   "outputs": [],
   "source": [
    "#Imports\n",
    "import cv2\n",
    "import matplotlib.pyplot as plt\n",
    "import numpy as np\n",
    "import pandas as pd"
   ]
  },
  {
   "cell_type": "code",
   "execution_count": 13,
   "metadata": {},
   "outputs": [
    {
     "data": {
      "text/plain": [
       "3024    308\n",
       "4032    128\n",
       "dtype: int64"
      ]
     },
     "execution_count": 13,
     "metadata": {},
     "output_type": "execute_result"
    }
   ],
   "source": [
    "#Take a look at the number of rows in each image\n",
    "shapes = pd.DataFrame([cv2.imread(path).shape[1] for path in paths])\n",
    "shapes.value_counts()"
   ]
  },
  {
   "cell_type": "markdown",
   "metadata": {},
   "source": [
    "__Two heights of images (3024 px and 4032 px). 308/436 images are 3024 px wide - reshape all images to 4032 px x 3024 px__\n",
    "\n",
    "Rotate to these dimensions since it is easier to take 4032 x 3024 px images with one hand on cell phone"
   ]
  },
  {
   "cell_type": "code",
   "execution_count": 26,
   "metadata": {},
   "outputs": [],
   "source": [
    "def reshape_save(paths):\n",
    "    for path in paths:\n",
    "        img = cv2.imread(path)\n",
    "        if img.shape[1] == 4032:\n",
    "            cv2.imwrite(path, cv2.rotate(img, cv2.ROTATE_90_CLOCKWISE))"
   ]
  },
  {
   "cell_type": "code",
   "execution_count": 27,
   "metadata": {},
   "outputs": [],
   "source": [
    "reshape_save(paths)"
   ]
  },
  {
   "cell_type": "markdown",
   "metadata": {},
   "source": [
    "#### All images shapes should be 4032 x 3024"
   ]
  },
  {
   "cell_type": "code",
   "execution_count": 30,
   "metadata": {},
   "outputs": [
    {
     "data": {
      "text/plain": [
       "4032    436\n",
       "dtype: int64"
      ]
     },
     "execution_count": 30,
     "metadata": {},
     "output_type": "execute_result"
    }
   ],
   "source": [
    "#Take a look at height of each image\n",
    "paths = [os.path.join(all_data_base, file) for file in all_images]\n",
    "shapes = pd.DataFrame([cv2.imread(path).shape[0] for path in paths])\n",
    "shapes.value_counts()"
   ]
  },
  {
   "cell_type": "markdown",
   "metadata": {},
   "source": [
    "__We have 436 images which have a height of 4032 pixels. Thus, all images are now 4032 x 3024 px__"
   ]
  },
  {
   "cell_type": "code",
   "execution_count": null,
   "metadata": {},
   "outputs": [],
   "source": []
  }
 ],
 "metadata": {
  "kernelspec": {
   "display_name": "Python 3",
   "language": "python",
   "name": "python3"
  },
  "language_info": {
   "codemirror_mode": {
    "name": "ipython",
    "version": 3
   },
   "file_extension": ".py",
   "mimetype": "text/x-python",
   "name": "python",
   "nbconvert_exporter": "python",
   "pygments_lexer": "ipython3",
   "version": "3.7.6"
  }
 },
 "nbformat": 4,
 "nbformat_minor": 4
}
